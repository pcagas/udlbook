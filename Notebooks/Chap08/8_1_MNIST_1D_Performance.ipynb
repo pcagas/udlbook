{
  "cells": [
    {
      "cell_type": "markdown",
      "metadata": {
        "colab_type": "text",
        "id": "view-in-github"
      },
      "source": [
        "<a href=\"https://colab.research.google.com/github/udlbook/udlbook/blob/main/Notebooks/Chap08/8_1_MNIST_1D_Performance.ipynb\" target=\"_parent\"><img src=\"https://colab.research.google.com/assets/colab-badge.svg\" alt=\"Open In Colab\"/></a>"
      ]
    },
    {
      "cell_type": "markdown",
      "metadata": {
        "id": "L6chybAVFJW2"
      },
      "source": [
        "# **Notebook 8.1: MNIST_1D_Performance**\n",
        "\n",
        "This notebook runs a simple neural network on the MNIST1D dataset as in figure 8.2a. It uses code from https://github.com/greydanus/mnist1d to generate the data.\n",
        "\n",
        "Work through the cells below, running each cell in turn. In various places you will see the words \"TO DO\". Follow the instructions at these places and make predictions about what is going to happen or write code to complete the functions.\n",
        "\n",
        "Contact me at udlbookmail@gmail.com if you find any mistakes or have any suggestions."
      ]
    },
    {
      "cell_type": "code",
      "execution_count": 1,
      "metadata": {
        "id": "ifVjS4cTOqKz"
      },
      "outputs": [
        {
          "name": "stdout",
          "output_type": "stream",
          "text": [
            "fatal: destination path 'mnist1d' already exists and is not an empty directory.\n"
          ]
        }
      ],
      "source": [
        "# Run this if you're in a Colab to make a local copy of the MNIST 1D repository\n",
        "!git clone https://github.com/greydanus/mnist1d"
      ]
    },
    {
      "cell_type": "code",
      "execution_count": 7,
      "metadata": {},
      "outputs": [],
      "source": [
        "!mkdir sample_data"
      ]
    },
    {
      "cell_type": "code",
      "execution_count": 2,
      "metadata": {
        "id": "qyE7G1StPIqO"
      },
      "outputs": [],
      "source": [
        "import torch, torch.nn as nn\n",
        "from torch.utils.data import TensorDataset, DataLoader\n",
        "from torch.optim.lr_scheduler import StepLR\n",
        "import numpy as np\n",
        "import matplotlib.pyplot as plt\n",
        "import mnist1d"
      ]
    },
    {
      "cell_type": "code",
      "execution_count": 7,
      "metadata": {},
      "outputs": [],
      "source": [
        "%matplotlib inline"
      ]
    },
    {
      "cell_type": "markdown",
      "metadata": {
        "id": "F7LNq72SP6jO"
      },
      "source": [
        "Let's generate a training and test dataset using the MNIST1D code.  The dataset gets saved as a .pkl file so it doesn't have to be regenerated each time."
      ]
    },
    {
      "cell_type": "code",
      "execution_count": 3,
      "metadata": {
        "id": "YLxf7dJfPaqw"
      },
      "outputs": [
        {
          "name": "stdout",
          "output_type": "stream",
          "text": [
            "Successfully loaded data from ./sample_data/mnist1d_data.pkl\n",
            "Examples in training set: 4000\n",
            "Examples in test set: 1000\n",
            "Length of each example: 40\n"
          ]
        }
      ],
      "source": [
        "args = mnist1d.data.get_dataset_args()\n",
        "data = mnist1d.data.get_dataset(args, path='./sample_data/mnist1d_data.pkl', download=False, regenerate=False)\n",
        "\n",
        "# The training and test input and outputs are in\n",
        "# data['x'], data['y'], data['x_test'], and data['y_test']\n",
        "print(\"Examples in training set: {}\".format(len(data['y'])))\n",
        "print(\"Examples in test set: {}\".format(len(data['y_test'])))\n",
        "print(\"Length of each example: {}\".format(data['x'].shape[-1]))"
      ]
    },
    {
      "cell_type": "code",
      "execution_count": 9,
      "metadata": {
        "id": "FxaB5vc0uevl"
      },
      "outputs": [
        {
          "data": {
            "text/plain": [
              "Sequential(\n",
              "  (0): Linear(in_features=40, out_features=300, bias=True)\n",
              "  (1): ReLU()\n",
              "  (2): Linear(in_features=300, out_features=300, bias=True)\n",
              "  (3): ReLU()\n",
              "  (4): Linear(in_features=300, out_features=10, bias=True)\n",
              ")"
            ]
          },
          "execution_count": 9,
          "metadata": {},
          "output_type": "execute_result"
        }
      ],
      "source": [
        "D_i = 40    # Input dimensions\n",
        "D_k = 300   # Hidden dimensions\n",
        "D_o = 10    # Output dimensions\n",
        "# DONE\n",
        "# Define a model with two hidden layers of size 100\n",
        "# And ReLU activations between them\n",
        "# Replace this line (see Figure 7.8 of book for help):\n",
        "model = nn.Sequential(\n",
        "  nn.Linear(D_i, D_k),\n",
        "  nn.ReLU(),\n",
        "  nn.Linear(D_k, D_k),\n",
        "  nn.ReLU(),\n",
        "  nn.Linear(D_k, D_o)\n",
        ")\n",
        "\n",
        "\n",
        "def weights_init(layer_in):\n",
        "  # DONE\n",
        "  # Initialize the parameters with He initialization\n",
        "  # Replace this line (see figure 7.8 of book for help)\n",
        "  if isinstance(layer_in, nn.Linear):\n",
        "    nn.init.kaiming_normal_(layer_in.weight)\n",
        "    layer_in.bias.data.fill_(0.0)\n",
        "\n",
        "# Call the function you just defined\n",
        "model.apply(weights_init)"
      ]
    },
    {
      "cell_type": "code",
      "execution_count": 10,
      "metadata": {
        "id": "_rX6N3VyyQTY"
      },
      "outputs": [
        {
          "name": "stdout",
          "output_type": "stream",
          "text": [
            "Epoch     0, train loss 1.448379, train error 54.95,  test loss 1.591158, test error 63.70\n",
            "Epoch     1, train loss 1.090017, train error 39.97,  test loss 1.329281, test error 51.60\n",
            "Epoch     2, train loss 0.852780, train error 30.30,  test loss 1.200727, test error 46.30\n",
            "Epoch     3, train loss 0.712444, train error 23.38,  test loss 1.188962, test error 45.50\n",
            "Epoch     4, train loss 0.539510, train error 15.22,  test loss 1.064867, test error 41.90\n",
            "Epoch     5, train loss 0.432378, train error 12.70,  test loss 1.079052, test error 39.90\n",
            "Epoch     6, train loss 0.340882, train error 9.07,  test loss 1.044925, test error 37.20\n",
            "Epoch     7, train loss 0.252415, train error 5.53,  test loss 1.108919, test error 38.60\n",
            "Epoch     8, train loss 0.204222, train error 4.40,  test loss 1.101890, test error 38.80\n",
            "Epoch     9, train loss 0.126123, train error 1.50,  test loss 1.096699, test error 37.30\n",
            "Epoch    10, train loss 0.081123, train error 0.25,  test loss 1.056528, test error 33.90\n",
            "Epoch    11, train loss 0.064046, train error 0.07,  test loss 1.069049, test error 35.20\n",
            "Epoch    12, train loss 0.054714, train error 0.00,  test loss 1.087307, test error 34.90\n",
            "Epoch    13, train loss 0.046204, train error 0.00,  test loss 1.092189, test error 34.20\n",
            "Epoch    14, train loss 0.040165, train error 0.00,  test loss 1.097963, test error 33.90\n",
            "Epoch    15, train loss 0.036306, train error 0.00,  test loss 1.126424, test error 34.40\n",
            "Epoch    16, train loss 0.031987, train error 0.00,  test loss 1.129221, test error 34.20\n",
            "Epoch    17, train loss 0.029221, train error 0.00,  test loss 1.135702, test error 34.40\n",
            "Epoch    18, train loss 0.026171, train error 0.00,  test loss 1.151976, test error 34.30\n",
            "Epoch    19, train loss 0.024175, train error 0.00,  test loss 1.167302, test error 34.70\n",
            "Epoch    20, train loss 0.022799, train error 0.00,  test loss 1.162625, test error 34.30\n",
            "Epoch    21, train loss 0.022226, train error 0.00,  test loss 1.174663, test error 34.40\n",
            "Epoch    22, train loss 0.021136, train error 0.00,  test loss 1.173243, test error 33.90\n",
            "Epoch    23, train loss 0.020585, train error 0.00,  test loss 1.182741, test error 34.50\n",
            "Epoch    24, train loss 0.019655, train error 0.00,  test loss 1.183661, test error 34.70\n",
            "Epoch    25, train loss 0.019097, train error 0.00,  test loss 1.191899, test error 34.40\n",
            "Epoch    26, train loss 0.018494, train error 0.00,  test loss 1.195225, test error 34.30\n",
            "Epoch    27, train loss 0.017860, train error 0.00,  test loss 1.196185, test error 34.50\n",
            "Epoch    28, train loss 0.017399, train error 0.00,  test loss 1.204946, test error 34.70\n",
            "Epoch    29, train loss 0.016878, train error 0.00,  test loss 1.203896, test error 34.50\n",
            "Epoch    30, train loss 0.016525, train error 0.00,  test loss 1.207754, test error 34.60\n",
            "Epoch    31, train loss 0.016284, train error 0.00,  test loss 1.209474, test error 34.70\n",
            "Epoch    32, train loss 0.016068, train error 0.00,  test loss 1.210272, test error 34.60\n",
            "Epoch    33, train loss 0.015849, train error 0.00,  test loss 1.213275, test error 34.70\n",
            "Epoch    34, train loss 0.015605, train error 0.00,  test loss 1.213883, test error 34.40\n",
            "Epoch    35, train loss 0.015400, train error 0.00,  test loss 1.217175, test error 34.60\n",
            "Epoch    36, train loss 0.015201, train error 0.00,  test loss 1.217414, test error 34.40\n",
            "Epoch    37, train loss 0.014982, train error 0.00,  test loss 1.219636, test error 34.70\n",
            "Epoch    38, train loss 0.014793, train error 0.00,  test loss 1.222845, test error 34.50\n",
            "Epoch    39, train loss 0.014596, train error 0.00,  test loss 1.224265, test error 34.40\n",
            "Epoch    40, train loss 0.014494, train error 0.00,  test loss 1.225236, test error 34.50\n",
            "Epoch    41, train loss 0.014400, train error 0.00,  test loss 1.225713, test error 34.40\n",
            "Epoch    42, train loss 0.014309, train error 0.00,  test loss 1.226229, test error 34.40\n",
            "Epoch    43, train loss 0.014217, train error 0.00,  test loss 1.227963, test error 34.20\n",
            "Epoch    44, train loss 0.014126, train error 0.00,  test loss 1.227258, test error 34.30\n",
            "Epoch    45, train loss 0.014037, train error 0.00,  test loss 1.229182, test error 34.40\n",
            "Epoch    46, train loss 0.013951, train error 0.00,  test loss 1.229936, test error 34.40\n",
            "Epoch    47, train loss 0.013862, train error 0.00,  test loss 1.230888, test error 34.30\n",
            "Epoch    48, train loss 0.013778, train error 0.00,  test loss 1.231256, test error 34.40\n",
            "Epoch    49, train loss 0.013693, train error 0.00,  test loss 1.232517, test error 34.40\n"
          ]
        }
      ],
      "source": [
        "# choose cross entropy loss function (equation 5.24)\n",
        "loss_function = torch.nn.CrossEntropyLoss()\n",
        "# construct SGD optimizer and initialize learning rate and momentum\n",
        "optimizer = torch.optim.SGD(model.parameters(), lr = 0.05, momentum=0.9)\n",
        "# object that decreases learning rate by half every 10 epochs\n",
        "scheduler = StepLR(optimizer, step_size=10, gamma=0.5)\n",
        "# create 100 dummy data points and store in data loader class\n",
        "x_train = torch.tensor(data['x'].astype('float32'))\n",
        "y_train = torch.tensor(data['y'].transpose().astype('long'))\n",
        "x_test= torch.tensor(data['x_test'].astype('float32'))\n",
        "y_test = torch.tensor(data['y_test'].astype('long'))\n",
        "\n",
        "# load the data into a class that creates the batches\n",
        "data_loader = DataLoader(TensorDataset(x_train,y_train), batch_size=100, shuffle=True, worker_init_fn=np.random.seed(1))\n",
        "\n",
        "# Initialize model weights\n",
        "model.apply(weights_init)\n",
        "\n",
        "# loop over the dataset n_epoch times\n",
        "n_epoch = 50\n",
        "# store the loss and the % correct at each epoch\n",
        "losses_train = np.zeros((n_epoch))\n",
        "errors_train = np.zeros((n_epoch))\n",
        "losses_test = np.zeros((n_epoch))\n",
        "errors_test = np.zeros((n_epoch))\n",
        "\n",
        "for epoch in range(n_epoch):\n",
        "  # loop over batches\n",
        "  for i, batch in enumerate(data_loader):\n",
        "    # retrieve inputs and labels for this batch\n",
        "    x_batch, y_batch = batch\n",
        "    # zero the parameter gradients\n",
        "    optimizer.zero_grad()\n",
        "    # forward pass -- calculate model output\n",
        "    pred = model(x_batch)\n",
        "    # compute the loss\n",
        "    loss = loss_function(pred, y_batch)\n",
        "    # backward pass\n",
        "    loss.backward()\n",
        "    # SGD update\n",
        "    optimizer.step()\n",
        "\n",
        "  # Run whole dataset to get statistics -- normally wouldn't do this\n",
        "  pred_train = model(x_train)\n",
        "  pred_test = model(x_test)\n",
        "  _, predicted_train_class = torch.max(pred_train.data, 1)\n",
        "  _, predicted_test_class = torch.max(pred_test.data, 1)\n",
        "  errors_train[epoch] = 100 - 100 * (predicted_train_class == y_train).float().sum() / len(y_train)\n",
        "  errors_test[epoch]= 100 - 100 * (predicted_test_class == y_test).float().sum() / len(y_test)\n",
        "  losses_train[epoch] = loss_function(pred_train, y_train).item()\n",
        "  losses_test[epoch]= loss_function(pred_test, y_test).item()\n",
        "  print(f'Epoch {epoch:5d}, train loss {losses_train[epoch]:.6f}, train error {errors_train[epoch]:3.2f},  test loss {losses_test[epoch]:.6f}, test error {errors_test[epoch]:3.2f}')\n",
        "\n",
        "  # tell scheduler to consider updating learning rate\n",
        "  scheduler.step()"
      ]
    },
    {
      "cell_type": "code",
      "execution_count": 11,
      "metadata": {
        "id": "yI-l6kA_EH9G"
      },
      "outputs": [
        {
          "data": {
            "image/png": "[encoded data removed]",
            "text/plain": [
              "<Figure size 640x480 with 1 Axes>"
            ]
          },
          "metadata": {},
          "output_type": "display_data"
        },
        {
          "data": {
            "image/png": "[encoded data removed]",
            "text/plain": [
              "<Figure size 640x480 with 1 Axes>"
            ]
          },
          "metadata": {},
          "output_type": "display_data"
        }
      ],
      "source": [
        "# Plot the results\n",
        "fig, ax = plt.subplots()\n",
        "ax.plot(errors_train,'r-',label='train')\n",
        "ax.plot(errors_test,'b-',label='test')\n",
        "ax.set_ylim(0,100); ax.set_xlim(0,n_epoch)\n",
        "ax.set_xlabel('Epoch'); ax.set_ylabel('Error')\n",
        "ax.set_title('TrainError %3.2f, Test Error %3.2f'%(errors_train[-1],errors_test[-1]))\n",
        "ax.legend()\n",
        "plt.show()\n",
        "\n",
        "# Plot the results\n",
        "fig, ax = plt.subplots()\n",
        "ax.plot(losses_train,'r-',label='train')\n",
        "ax.plot(losses_test,'b-',label='test')\n",
        "ax.set_xlim(0,n_epoch)\n",
        "ax.set_xlabel('Epoch'); ax.set_ylabel('Loss')\n",
        "ax.set_title('Train loss %3.2f, Test loss %3.2f'%(losses_train[-1],losses_test[-1]))\n",
        "ax.legend()\n",
        "plt.show()"
      ]
    },
    {
      "cell_type": "markdown",
      "metadata": {
        "id": "q-yT6re6GZS4"
      },
      "source": [
        "**TO DO**\n",
        "\n",
        "Play with the model -- try changing the number of layers, hidden units, learning rate, batch size, momentum or anything else you like.  See if you can improve the test results.\n",
        "\n",
        "Is it a good idea to optimize the hyperparameters in this way?  Will the final result be a good estimate of the true test performance?"
      ]
    }
  ],
  "metadata": {
    "accelerator": "GPU",
    "colab": {
      "authorship_tag": "ABX9TyOuKMUcKfOIhIL2qTX9jJCy",
      "gpuType": "T4",
      "include_colab_link": true,
      "provenance": []
    },
    "kernelspec": {
      "display_name": "Python 3",
      "name": "python3"
    },
    "language_info": {
      "codemirror_mode": {
        "name": "ipython",
        "version": 3
      },
      "file_extension": ".py",
      "mimetype": "text/x-python",
      "name": "python",
      "nbconvert_exporter": "python",
      "pygments_lexer": "ipython3",
      "version": "3.12.3"
    }
  },
  "nbformat": 4,
  "nbformat_minor": 0
}
