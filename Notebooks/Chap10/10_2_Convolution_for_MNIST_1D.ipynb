{
 "cells": [
  {
   "cell_type": "markdown",
   "metadata": {
    "colab_type": "text",
    "id": "view-in-github"
   },
   "source": [
    "<a href=\"https://colab.research.google.com/github/udlbook/udlbook/blob/main/Notebooks/Chap10/10_2_Convolution_for_MNIST_1D.ipynb\" target=\"_parent\"><img src=\"https://colab.research.google.com/assets/colab-badge.svg\" alt=\"Open In Colab\"/></a>"
   ]
  },
  {
   "cell_type": "markdown",
   "metadata": {
    "id": "t9vk9Elugvmi"
   },
   "source": [
    "# **Notebook 10.2: Convolution for MNIST-1D**\n",
    "\n",
    "This notebook investigates a 1D convolutional network for MNIST-1D as in figure 10.7 and 10.8a.\n",
    "\n",
    "Work through the cells below, running each cell in turn. In various places you will see the words \"TO DO\". Follow the instructions at these places and make predictions about what is going to happen or write code to complete the functions.\n",
    "\n",
    "Contact me at udlbookmail@gmail.com if you find any mistakes or have any suggestions.\n",
    "\n"
   ]
  },
  {
   "cell_type": "code",
   "execution_count": null,
   "metadata": {
    "id": "D5yLObtZCi9J"
   },
   "outputs": [],
   "source": [
    "# Run this if you're in a Colab to make a local copy of the MNIST 1D repository\n",
    "!git clone https://github.com/greydanus/mnist1d"
   ]
  },
  {
   "cell_type": "code",
   "execution_count": 2,
   "metadata": {
    "id": "YrXWAH7sUWvU"
   },
   "outputs": [],
   "source": [
    "import numpy as np\n",
    "import os\n",
    "import torch, torch.nn as nn\n",
    "from torch.utils.data import TensorDataset, DataLoader\n",
    "from torch.optim.lr_scheduler import StepLR\n",
    "import matplotlib.pyplot as plt\n",
    "import mnist1d\n",
    "import random"
   ]
  },
  {
   "cell_type": "code",
   "execution_count": 3,
   "metadata": {},
   "outputs": [],
   "source": [
    "%matplotlib inline\n",
    "plt.style.use(\"/home/cagas65/gkeyll/postgkyl/src/postgkyl/output/postgkyl.mplstyle\")"
   ]
  },
  {
   "cell_type": "code",
   "execution_count": null,
   "metadata": {
    "id": "twI72ZCrCt5z"
   },
   "outputs": [
    {
     "name": "stdout",
     "output_type": "stream",
     "text": [
      "Successfully loaded data from ./mnist1d_data.pkl\n",
      "Examples in training set: 4000\n",
      "Examples in test set: 1000\n",
      "Length of each example: 40\n"
     ]
    }
   ],
   "source": [
    "args = mnist1d.data.get_dataset_args()\n",
    "data = mnist1d.data.get_dataset(args, path='./mnist1d_data.pkl', download=False, regenerate=False)\n",
    "\n",
    "# The training and test input and outputs are in\n",
    "# data['x'], data['y'], data['x_test'], and data['y_test']\n",
    "print(f\"Examples in training set: {len(data['y']):d}\")\n",
    "print(f\"Examples in test set: {len(data['y_test']):d}\")\n",
    "print(f\"Length of each example: {data['x'].shape[-1]:d}\")"
   ]
  },
  {
   "cell_type": "code",
   "execution_count": 5,
   "metadata": {
    "id": "8bKADvLHbiV5"
   },
   "outputs": [
    {
     "name": "stdout",
     "output_type": "stream",
     "text": [
      "Train data: 4000 examples (columns), each of which has 40 dimensions (rows)\n",
      "Validation data: 1000 examples (columns), each of which has 40 dimensions (rows)\n"
     ]
    }
   ],
   "source": [
    "# Load in the data\n",
    "train_data_x = data['x'].transpose()\n",
    "train_data_y = data['y']\n",
    "val_data_x = data['x_test'].transpose()\n",
    "val_data_y = data['y_test']\n",
    "# Print out sizes\n",
    "print(\"Train data: %d examples (columns), each of which has %d dimensions (rows)\"%((train_data_x.shape[1],train_data_x.shape[0])))\n",
    "print(\"Validation data: %d examples (columns), each of which has %d dimensions (rows)\"%((val_data_x.shape[1],val_data_x.shape[0])))"
   ]
  },
  {
   "cell_type": "markdown",
   "metadata": {
    "id": "_sFvRDGrl4qe"
   },
   "source": [
    "Define the network"
   ]
  },
  {
   "cell_type": "code",
   "execution_count": 6,
   "metadata": {
    "id": "FslroPJJffrh"
   },
   "outputs": [],
   "source": [
    "# There are 40 input dimensions and 10 output dimensions for this data\n",
    "# The inputs correspond to the 40 offsets in the MNIST1D template.\n",
    "D_i = 40\n",
    "# The outputs correspond to the 10 digits\n",
    "D_o = 10\n",
    "\n",
    "\n",
    "# TODO Create a model with the following layers\n",
    "# 1. Convolutional layer, (input=length 40 and 1 channel, kernel size 3, stride 2, padding=\"valid\", 15 output channels )\n",
    "# 2. ReLU\n",
    "# 3. Convolutional layer, (input=length 19 and 15 channels, kernel size 3, stride 2, padding=\"valid\", 15 output channels )\n",
    "# 4. ReLU\n",
    "# 5. Convolutional layer, (input=length 9 and 15 channels, kernel size 3, stride 2, padding=\"valid\", 15 output channels)\n",
    "# 6. ReLU\n",
    "# 7. Flatten (converts 4x15) to length 60\n",
    "# 8. Linear layer (input size = 60, output size = 10)\n",
    "# References:\n",
    "# https://pytorch.org/docs/1.13/generated/torch.nn.Conv1d.html?highlight=conv1d#torch.nn.Conv1d\n",
    "# https://pytorch.org/docs/stable/generated/torch.nn.Flatten.html\n",
    "# https://pytorch.org/docs/1.13/generated/torch.nn.Linear.html?highlight=linear#torch.nn.Linear\n",
    "\n",
    "# NOTE THAT THE CONVOLUTIONAL LAYERS NEED TO TAKE THE NUMBER OF INPUT CHANNELS AS A PARAMETER\n",
    "# AND NOT THE INPUT SIZE.\n",
    "\n",
    "model = nn.Sequential(\n",
    "  nn.Conv1d(in_channels=1, out_channels=15, kernel_size=3, stride=2, padding=\"valid\"),\n",
    "  nn.ReLU(),\n",
    "  nn.Conv1d(in_channels=15, out_channels=15, kernel_size=3, stride=2, padding=\"valid\"),\n",
    "  nn.ReLU(),\n",
    "  nn.Conv1d(in_channels=15, out_channels=15, kernel_size=3, stride=2, padding=\"valid\"),\n",
    "  nn.ReLU(),\n",
    "  nn.Flatten(),\n",
    "  nn.Linear(60, 10)\n",
    ")\n",
    "\n",
    "# Replace the following function:\n",
    "#model = nn.Sequential(\n",
    "#nn.Flatten(),\n",
    "#nn.Linear(40, 100),\n",
    "#nn.ReLU(),\n",
    "#nn.Linear(100, 100),\n",
    "#nn.ReLU(),\n",
    "#nn.Linear(100, 10))\n",
    "\n",
    "\n",
    "\n"
   ]
  },
  {
   "cell_type": "code",
   "execution_count": 7,
   "metadata": {
    "id": "YgLaex1pfhqz"
   },
   "outputs": [],
   "source": [
    "# He initialization of weights\n",
    "def weights_init(layer_in):\n",
    "  if isinstance(layer_in, nn.Linear):\n",
    "    nn.init.kaiming_uniform_(layer_in.weight)\n",
    "    layer_in.bias.data.fill_(0.0)"
   ]
  },
  {
   "cell_type": "code",
   "execution_count": 9,
   "metadata": {
    "id": "NYw8I_3mmX5c"
   },
   "outputs": [
    {
     "name": "stdout",
     "output_type": "stream",
     "text": [
      "Epoch     0, train loss 0.960555, train error 35.88,  val loss 1.000406, percent error 37.30\n",
      "Epoch     1, train loss 0.437680, train error 14.90,  val loss 0.535640, percent error 19.00\n",
      "Epoch     2, train loss 0.260616, train error 9.22,  val loss 0.385947, percent error 13.80\n",
      "Epoch     3, train loss 0.228240, train error 7.65,  val loss 0.354484, percent error 11.80\n",
      "Epoch     4, train loss 0.170108, train error 6.12,  val loss 0.335770, percent error 11.40\n",
      "Epoch     5, train loss 0.193295, train error 6.85,  val loss 0.367681, percent error 11.10\n",
      "Epoch     6, train loss 0.186345, train error 6.68,  val loss 0.399377, percent error 12.10\n",
      "Epoch     7, train loss 0.138278, train error 4.97,  val loss 0.340972, percent error 9.50\n",
      "Epoch     8, train loss 0.168083, train error 6.15,  val loss 0.343935, percent error 11.60\n",
      "Epoch     9, train loss 0.114353, train error 3.85,  val loss 0.341958, percent error 11.00\n",
      "Epoch    10, train loss 0.157847, train error 5.55,  val loss 0.379063, percent error 9.90\n",
      "Epoch    11, train loss 0.102211, train error 3.75,  val loss 0.366083, percent error 10.30\n",
      "Epoch    12, train loss 0.136493, train error 4.47,  val loss 0.318641, percent error 9.00\n",
      "Epoch    13, train loss 0.090519, train error 3.03,  val loss 0.284712, percent error 7.70\n",
      "Epoch    14, train loss 0.084590, train error 3.00,  val loss 0.310535, percent error 9.60\n",
      "Epoch    15, train loss 0.079153, train error 2.80,  val loss 0.318287, percent error 9.00\n",
      "Epoch    16, train loss 0.274347, train error 8.05,  val loss 0.608941, percent error 13.70\n",
      "Epoch    17, train loss 0.123017, train error 4.60,  val loss 0.333470, percent error 10.60\n",
      "Epoch    18, train loss 0.109714, train error 3.75,  val loss 0.409106, percent error 10.50\n",
      "Epoch    19, train loss 0.081891, train error 2.62,  val loss 0.320693, percent error 9.20\n",
      "Epoch    20, train loss 0.056413, train error 1.82,  val loss 0.290920, percent error 8.50\n",
      "Epoch    21, train loss 0.037033, train error 0.95,  val loss 0.296823, percent error 8.20\n",
      "Epoch    22, train loss 0.032874, train error 0.85,  val loss 0.290800, percent error 7.70\n",
      "Epoch    23, train loss 0.028403, train error 0.65,  val loss 0.279572, percent error 7.80\n",
      "Epoch    24, train loss 0.025690, train error 0.65,  val loss 0.287452, percent error 7.80\n",
      "Epoch    25, train loss 0.019061, train error 0.18,  val loss 0.284583, percent error 7.30\n",
      "Epoch    26, train loss 0.020943, train error 0.35,  val loss 0.298247, percent error 7.70\n",
      "Epoch    27, train loss 0.018528, train error 0.22,  val loss 0.299961, percent error 7.50\n",
      "Epoch    28, train loss 0.018008, train error 0.25,  val loss 0.306527, percent error 7.90\n",
      "Epoch    29, train loss 0.020575, train error 0.35,  val loss 0.313666, percent error 8.00\n",
      "Epoch    30, train loss 0.018780, train error 0.35,  val loss 0.312424, percent error 8.50\n",
      "Epoch    31, train loss 0.014947, train error 0.15,  val loss 0.303353, percent error 7.40\n",
      "Epoch    32, train loss 0.015891, train error 0.22,  val loss 0.315717, percent error 8.00\n",
      "Epoch    33, train loss 0.012963, train error 0.05,  val loss 0.305086, percent error 7.40\n",
      "Epoch    34, train loss 0.012565, train error 0.03,  val loss 0.312148, percent error 7.50\n",
      "Epoch    35, train loss 0.015529, train error 0.22,  val loss 0.328879, percent error 8.10\n",
      "Epoch    36, train loss 0.014865, train error 0.22,  val loss 0.327505, percent error 7.80\n",
      "Epoch    37, train loss 0.012706, train error 0.18,  val loss 0.317402, percent error 7.90\n",
      "Epoch    38, train loss 0.010861, train error 0.03,  val loss 0.320531, percent error 6.90\n",
      "Epoch    39, train loss 0.009837, train error 0.03,  val loss 0.324957, percent error 7.70\n",
      "Epoch    40, train loss 0.008269, train error 0.00,  val loss 0.326827, percent error 7.10\n",
      "Epoch    41, train loss 0.008055, train error 0.00,  val loss 0.333030, percent error 7.30\n",
      "Epoch    42, train loss 0.007876, train error 0.00,  val loss 0.331238, percent error 7.40\n",
      "Epoch    43, train loss 0.007640, train error 0.00,  val loss 0.330226, percent error 7.40\n",
      "Epoch    44, train loss 0.007391, train error 0.00,  val loss 0.335276, percent error 7.40\n",
      "Epoch    45, train loss 0.007209, train error 0.00,  val loss 0.335465, percent error 7.40\n",
      "Epoch    46, train loss 0.007111, train error 0.00,  val loss 0.338343, percent error 7.40\n",
      "Epoch    47, train loss 0.007086, train error 0.00,  val loss 0.334821, percent error 7.10\n",
      "Epoch    48, train loss 0.006976, train error 0.00,  val loss 0.340956, percent error 7.80\n",
      "Epoch    49, train loss 0.006881, train error 0.00,  val loss 0.337539, percent error 7.10\n",
      "Epoch    50, train loss 0.006927, train error 0.00,  val loss 0.345424, percent error 7.40\n",
      "Epoch    51, train loss 0.006510, train error 0.00,  val loss 0.344318, percent error 7.60\n",
      "Epoch    52, train loss 0.006852, train error 0.00,  val loss 0.349180, percent error 7.70\n",
      "Epoch    53, train loss 0.006367, train error 0.00,  val loss 0.346827, percent error 7.50\n",
      "Epoch    54, train loss 0.006205, train error 0.00,  val loss 0.345515, percent error 7.40\n",
      "Epoch    55, train loss 0.006067, train error 0.00,  val loss 0.350603, percent error 7.60\n",
      "Epoch    56, train loss 0.005934, train error 0.00,  val loss 0.349678, percent error 7.40\n",
      "Epoch    57, train loss 0.005871, train error 0.00,  val loss 0.354353, percent error 7.40\n",
      "Epoch    58, train loss 0.005866, train error 0.00,  val loss 0.350948, percent error 7.20\n",
      "Epoch    59, train loss 0.005720, train error 0.00,  val loss 0.351458, percent error 7.20\n",
      "Epoch    60, train loss 0.005597, train error 0.00,  val loss 0.355768, percent error 7.40\n",
      "Epoch    61, train loss 0.005567, train error 0.00,  val loss 0.352981, percent error 7.30\n",
      "Epoch    62, train loss 0.005523, train error 0.00,  val loss 0.355697, percent error 7.30\n",
      "Epoch    63, train loss 0.005521, train error 0.00,  val loss 0.357139, percent error 7.50\n",
      "Epoch    64, train loss 0.005432, train error 0.00,  val loss 0.355606, percent error 7.20\n",
      "Epoch    65, train loss 0.005389, train error 0.00,  val loss 0.357601, percent error 7.40\n",
      "Epoch    66, train loss 0.005368, train error 0.00,  val loss 0.358291, percent error 7.30\n",
      "Epoch    67, train loss 0.005350, train error 0.00,  val loss 0.358159, percent error 7.40\n",
      "Epoch    68, train loss 0.005275, train error 0.00,  val loss 0.358438, percent error 7.30\n",
      "Epoch    69, train loss 0.005228, train error 0.00,  val loss 0.361073, percent error 7.40\n",
      "Epoch    70, train loss 0.005203, train error 0.00,  val loss 0.360671, percent error 7.40\n",
      "Epoch    71, train loss 0.005159, train error 0.00,  val loss 0.361041, percent error 7.30\n",
      "Epoch    72, train loss 0.005127, train error 0.00,  val loss 0.361666, percent error 7.30\n",
      "Epoch    73, train loss 0.005093, train error 0.00,  val loss 0.363526, percent error 7.20\n",
      "Epoch    74, train loss 0.005102, train error 0.00,  val loss 0.363654, percent error 7.40\n",
      "Epoch    75, train loss 0.005047, train error 0.00,  val loss 0.363259, percent error 7.40\n",
      "Epoch    76, train loss 0.004995, train error 0.00,  val loss 0.364944, percent error 7.30\n",
      "Epoch    77, train loss 0.004960, train error 0.00,  val loss 0.365883, percent error 7.40\n",
      "Epoch    78, train loss 0.004921, train error 0.00,  val loss 0.365431, percent error 7.40\n",
      "Epoch    79, train loss 0.004898, train error 0.00,  val loss 0.366789, percent error 7.20\n",
      "Epoch    80, train loss 0.004867, train error 0.00,  val loss 0.366836, percent error 7.40\n",
      "Epoch    81, train loss 0.004855, train error 0.00,  val loss 0.366918, percent error 7.30\n",
      "Epoch    82, train loss 0.004833, train error 0.00,  val loss 0.367357, percent error 7.40\n",
      "Epoch    83, train loss 0.004819, train error 0.00,  val loss 0.367240, percent error 7.40\n",
      "Epoch    84, train loss 0.004806, train error 0.00,  val loss 0.367867, percent error 7.30\n",
      "Epoch    85, train loss 0.004787, train error 0.00,  val loss 0.368180, percent error 7.40\n",
      "Epoch    86, train loss 0.004772, train error 0.00,  val loss 0.367902, percent error 7.40\n",
      "Epoch    87, train loss 0.004762, train error 0.00,  val loss 0.367439, percent error 7.20\n",
      "Epoch    88, train loss 0.004743, train error 0.00,  val loss 0.369058, percent error 7.40\n",
      "Epoch    89, train loss 0.004732, train error 0.00,  val loss 0.369629, percent error 7.40\n",
      "Epoch    90, train loss 0.004712, train error 0.00,  val loss 0.369269, percent error 7.40\n",
      "Epoch    91, train loss 0.004703, train error 0.00,  val loss 0.368979, percent error 7.30\n",
      "Epoch    92, train loss 0.004688, train error 0.00,  val loss 0.370263, percent error 7.30\n",
      "Epoch    93, train loss 0.004669, train error 0.00,  val loss 0.369975, percent error 7.30\n",
      "Epoch    94, train loss 0.004653, train error 0.00,  val loss 0.370175, percent error 7.30\n",
      "Epoch    95, train loss 0.004642, train error 0.00,  val loss 0.370197, percent error 7.30\n",
      "Epoch    96, train loss 0.004623, train error 0.00,  val loss 0.370360, percent error 7.40\n",
      "Epoch    97, train loss 0.004613, train error 0.00,  val loss 0.371236, percent error 7.40\n",
      "Epoch    98, train loss 0.004595, train error 0.00,  val loss 0.370703, percent error 7.30\n",
      "Epoch    99, train loss 0.004586, train error 0.00,  val loss 0.371829, percent error 7.40\n"
     ]
    }
   ],
   "source": [
    "# choose cross entropy loss function (equation 5.24 in the loss notes)\n",
    "loss_function = nn.CrossEntropyLoss()\n",
    "# construct SGD optimizer and initialize learning rate and momentum\n",
    "optimizer = torch.optim.SGD(model.parameters(), lr=0.05, momentum=0.9)\n",
    "# object that decreases learning rate by half every 20 epochs\n",
    "scheduler = StepLR(optimizer, step_size=20, gamma=0.5)\n",
    "# create 100 dummy data points and store in data loader class\n",
    "x_train = torch.tensor(train_data_x.transpose().astype('float32'))\n",
    "y_train = torch.tensor(train_data_y.astype('long')).long()\n",
    "x_val= torch.tensor(val_data_x.transpose().astype('float32'))\n",
    "y_val = torch.tensor(val_data_y.astype('long')).long()\n",
    "\n",
    "# load the data into a class that creates the batches\n",
    "data_loader = DataLoader(TensorDataset(x_train,y_train), batch_size=100, shuffle=True, worker_init_fn=np.random.seed(1))\n",
    "\n",
    "# Initialize model weights\n",
    "model.apply(weights_init)\n",
    "\n",
    "# loop over the dataset n_epoch times\n",
    "n_epoch = 100\n",
    "# store the loss and the % correct at each epoch\n",
    "losses_train = np.zeros((n_epoch))\n",
    "errors_train = np.zeros((n_epoch))\n",
    "losses_val = np.zeros((n_epoch))\n",
    "errors_val = np.zeros((n_epoch))\n",
    "\n",
    "for epoch in range(n_epoch):\n",
    "  # loop over batches\n",
    "  for i, data in enumerate(data_loader):\n",
    "    # retrieve inputs and labels for this batch\n",
    "    x_batch, y_batch = data\n",
    "    # zero the parameter gradients\n",
    "    optimizer.zero_grad()\n",
    "    # forward pass -- calculate model output\n",
    "    pred = model(x_batch[:,None,:])\n",
    "    # compute the loss\n",
    "    loss = loss_function(pred, y_batch)\n",
    "    # backward pass\n",
    "    loss.backward()\n",
    "    # SGD update\n",
    "    optimizer.step()\n",
    "\n",
    "  # Run whole dataset to get statistics -- normally wouldn't do this\n",
    "  pred_train = model(x_train[:,None,:])\n",
    "  pred_val = model(x_val[:,None,:])\n",
    "  _, predicted_train_class = torch.max(pred_train.data, 1)\n",
    "  _, predicted_val_class = torch.max(pred_val.data, 1)\n",
    "  errors_train[epoch] = 100 - 100 * (predicted_train_class == y_train).float().sum() / len(y_train)\n",
    "  errors_val[epoch]= 100 - 100 * (predicted_val_class == y_val).float().sum() / len(y_val)\n",
    "  losses_train[epoch] = loss_function(pred_train, y_train).item()\n",
    "  losses_val[epoch]= loss_function(pred_val, y_val).item()\n",
    "  print(f'Epoch {epoch:5d}, train loss {losses_train[epoch]:.6f}, train error {errors_train[epoch]:3.2f},  val loss {losses_val[epoch]:.6f}, percent error {errors_val[epoch]:3.2f}')\n",
    "\n",
    "  # tell scheduler to consider updating learning rate\n",
    "  scheduler.step()\n"
   ]
  },
  {
   "cell_type": "code",
   "execution_count": 10,
   "metadata": {},
   "outputs": [
    {
     "data": {
      "image/png": "[encoded data removed]",
      "text/plain": [
       "<Figure size 640x480 with 1 Axes>"
      ]
     },
     "metadata": {},
     "output_type": "display_data"
    }
   ],
   "source": [
    "# Plot the results\n",
    "fig, ax = plt.subplots()\n",
    "ax.plot(errors_train,'-',label='train')\n",
    "ax.plot(errors_val,'-',label='validation')\n",
    "ax.set_ylim(0,100); ax.set_xlim(0,n_epoch)\n",
    "ax.set_xlabel('Epoch'); ax.set_ylabel('Error')\n",
    "ax.set_title('Part I: Validation Result %3.2f'%(errors_val[-1]))\n",
    "ax.legend()\n",
    "ax.grid()\n",
    "plt.show()"
   ]
  },
  {
   "cell_type": "code",
   "execution_count": null,
   "metadata": {},
   "outputs": [],
   "source": []
  }
 ],
 "metadata": {
  "colab": {
   "authorship_tag": "ABX9TyNJodaaCLMRWL9vTl8B/iLI",
   "include_colab_link": true,
   "provenance": []
  },
  "kernelspec": {
   "display_name": "nn",
   "language": "python",
   "name": "python3"
  },
  "language_info": {
   "codemirror_mode": {
    "name": "ipython",
    "version": 3
   },
   "file_extension": ".py",
   "mimetype": "text/x-python",
   "name": "python",
   "nbconvert_exporter": "python",
   "pygments_lexer": "ipython3",
   "version": "3.12.3"
  }
 },
 "nbformat": 4,
 "nbformat_minor": 0
}
